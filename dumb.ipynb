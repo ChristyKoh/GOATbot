{
 "cells": [
  {
   "cell_type": "code",
   "execution_count": 91,
   "metadata": {},
   "outputs": [],
   "source": [
    "import os\n",
    "import cv2 as cv\n",
    "import numpy as np\n",
    "from tqdm import tqdm"
   ]
  },
  {
   "cell_type": "code",
   "execution_count": 74,
   "metadata": {},
   "outputs": [],
   "source": [
    "def time_to_frames(t, fps):\n",
    "    return np.round(np.multiply(t, fps)).astype(int)\n",
    "\n",
    "def frames_to_time(f, fps):\n",
    "    return np.divide(f, fps)"
   ]
  },
  {
   "cell_type": "code",
   "execution_count": 95,
   "metadata": {},
   "outputs": [],
   "source": [
    "def crop_video(input_video_path, output_video_path, x, y, w, h):\n",
    "    # Open the input video\n",
    "    cap = cv.VideoCapture(input_video_path)\n",
    "    if not cap.isOpened():\n",
    "        print(\"Error: Could not open video.\")\n",
    "        return\n",
    "\n",
    "    # Get video properties\n",
    "    fourcc = cv.VideoWriter_fourcc(*'mp4v')\n",
    "    fps = cap.get(cv.CAP_PROP_FPS)\n",
    "    frame_count = int(cap.get(cv.CAP_PROP_FRAME_COUNT))\n",
    "    original_width = int(cap.get(cv.CAP_PROP_FRAME_WIDTH))\n",
    "    original_height = int(cap.get(cv.CAP_PROP_FRAME_HEIGHT))\n",
    "\n",
    "    # Define the codec and create VideoWriter object\n",
    "    out = cv.VideoWriter(output_video_path, fourcc, fps, (w, h))\n",
    "\n",
    "    # Process each frame\n",
    "    for i in tqdm(range(frame_count)):\n",
    "        ret, frame = cap.read()\n",
    "        if not ret:\n",
    "            break\n",
    "\n",
    "        # Crop the frame\n",
    "        cropped_frame = frame[y:y+h, x:x+w]\n",
    "\n",
    "        # Write the cropped frame to the output video\n",
    "        out.write(cropped_frame)\n",
    "\n",
    "    # Release everything when job is finished\n",
    "    cap.release()\n",
    "    out.release()\n",
    "    cv.destroyAllWindows()"
   ]
  },
  {
   "cell_type": "code",
   "execution_count": null,
   "metadata": {},
   "outputs": [],
   "source": [
    "input_video_path = \"C0012.MP4\"\n",
    "output_video_path = \"output_cropped.mp4\"\n",
    "x, y, w, h = 750, 280, 250, 150  # Specify the x, y, width, and height\n",
    "\n",
    "crop_video(input_video_path, output_video_path, x, y, w, h)"
   ]
  },
  {
   "cell_type": "code",
   "execution_count": 94,
   "metadata": {},
   "outputs": [],
   "source": [
    "def get_score_framestamps(input_video_path, output_video_path, basket_bound_x=(115, 160), basket_bound_y=(110, 115), cooldown_seconds=1):\n",
    "    \"\"\"\n",
    "    Records a frame as a score if the ball enters the specified basket bounding box.\n",
    "    The score bounding box should be aligned to the top of the basket.\n",
    "\n",
    "    params:\n",
    "        input_video_path: \n",
    "        output_video_path: \n",
    "        basket_bound_x: tuple\n",
    "        basket_bound_y: tuple\n",
    "        cooldown_seconds: length of time before the next detection is allowed\n",
    "    \"\"\"\n",
    "    line_colour = (227, 73, 121)\n",
    "\n",
    "    # Open the input video\n",
    "    cap = cv.VideoCapture(input_video_path)\n",
    "    if not cap.isOpened():\n",
    "        print(\"Error: Could not open video.\")\n",
    "        return\n",
    "\n",
    "    # Get video properties\n",
    "    fps = cap.get(cv.CAP_PROP_FPS)\n",
    "    frame_count = int(cap.get(cv.CAP_PROP_FRAME_COUNT))\n",
    "\n",
    "    # removes the background using KNN algorithm, which is good if small parts of a complex background change frequently\n",
    "    # https://www.reddit.com/r/opencv/comments/yrbl07/question_how_does_knn_background_subtractor_work/\n",
    "    # https://en.wikipedia.org/wiki/Kernel_density_estimation \n",
    "    # tl;dr learns a background model by progressively applying each frame to the model\n",
    "    fgbg = cv.createBackgroundSubtractorKNN()\n",
    "\n",
    "    prev_seconds = -1\n",
    "    framestamps = []\n",
    "    # Process each frame\n",
    "    for i in tqdm(range(frame_count)):\n",
    "        ret, frame = cap.read()\n",
    "        if not ret:\n",
    "            break\n",
    "\n",
    "        # remove background\n",
    "        mask = fgbg.apply(frame)\n",
    "        # median blur to denoise https://docs.opencv.org/4.x/d4/d13/tutorial_py_filtering.html\n",
    "        mask = cv.medianBlur(mask, 5)\n",
    "\n",
    "        if not np.any(mask):\n",
    "            continue\n",
    "\n",
    "        # calc ball's center of mass using pixels\n",
    "        com = (np.mean(np.argwhere(mask), axis=0)).astype(int)\n",
    "        cv.circle(frame, com[::-1], 3, line_colour, 2)\n",
    "\n",
    "        cv.line(frame, (basket_bound_x[0], basket_bound_y[0]), (basket_bound_x[1], basket_bound_y[0]), line_colour, 2)\n",
    "        # if com crosses the line, print timestamp\n",
    "        if basket_bound_y[0] < com[0] < basket_bound_y[1] and basket_bound_x[0] < com[1] < basket_bound_x[1]:\n",
    "            current_seconds = i / fps\n",
    "            if not framestamps or current_seconds >= prev_seconds + cooldown_seconds:\n",
    "                print(f\"basket made at: {current_seconds//60}m{round(current_seconds%60)}s\")\n",
    "                prev_seconds = current_seconds\n",
    "                framestamps.append(i)\n",
    "\n",
    "    # Release everything when job is finished\n",
    "    cap.release()\n",
    "    cv.destroyAllWindows()\n",
    "\n",
    "    print(\"Found \", len(framestamps), \" scored baskets.\")\n",
    "    return framestamps"
   ]
  },
  {
   "cell_type": "code",
   "execution_count": 88,
   "metadata": {},
   "outputs": [
    {
     "name": "stdout",
     "output_type": "stream",
     "text": [
      "basket made at: 1.0m58s\n",
      "basket made at: 3.0m21s\n",
      "basket made at: 4.0m4s\n",
      "basket made at: 4.0m52s\n",
      "basket made at: 5.0m22s\n",
      "basket made at: 5.0m46s\n",
      "basket made at: 6.0m25s\n",
      "basket made at: 6.0m38s\n",
      "basket made at: 7.0m7s\n",
      "basket made at: 7.0m34s\n",
      "basket made at: 7.0m57s\n",
      "basket made at: 8.0m26s\n",
      "basket made at: 8.0m38s\n",
      "basket made at: 9.0m38s\n",
      "basket made at: 9.0m45s\n",
      "basket made at: 9.0m59s\n",
      "basket made at: 10.0m2s\n",
      "basket made at: 10.0m37s\n",
      "basket made at: 10.0m41s\n",
      "basket made at: 10.0m46s\n",
      "Found  20  scored baskets.\n"
     ]
    }
   ],
   "source": [
    "score_framestamps = get_score_framestamps(\"output_cropped.mp4\", \"mask_video.mp4\", (115,160), (105, 115))"
   ]
  },
  {
   "cell_type": "code",
   "execution_count": 106,
   "metadata": {},
   "outputs": [],
   "source": [
    "from pathlib import Path\n",
    "\n",
    "def segment_video(input_video_path, score_framestamps, before_score_seconds=3, after_score_seconds=1, split_segments=False):\n",
    "    \"\"\"\n",
    "    Params:\n",
    "        input_video_path: path to video to segment; output highlight reel\n",
    "        score_framestamps: list of frames where a basket was scored\n",
    "        before_score_seconds: buffer length before the shot\n",
    "        highlight_len_after_frames: buffer length after the shot\n",
    "        split_segments: whether each segment should be its own video\n",
    "    \"\"\"\n",
    "    # Open the input video\n",
    "    cap = cv.VideoCapture(input_video_path)\n",
    "    if not cap.isOpened():\n",
    "        print(\"Error: Could not open video.\")\n",
    "        return\n",
    "\n",
    "    # Get video properties\n",
    "    fourcc = cv.VideoWriter_fourcc(*'mp4v')\n",
    "    fps = cap.get(cv.CAP_PROP_FPS)\n",
    "    frame_count = int(cap.get(cv.CAP_PROP_FRAME_COUNT))\n",
    "    original_width = int(cap.get(cv.CAP_PROP_FRAME_WIDTH))\n",
    "    original_height = int(cap.get(cv.CAP_PROP_FRAME_HEIGHT))\n",
    "\n",
    "    highlight_frames = before_score_seconds * fps\n",
    "    highlight_num = 0\n",
    "    out = cv.VideoWriter(f\"{Path(input_video_path).stem}_highlight.mp4\", fourcc, fps, (original_width, original_height))\n",
    "    for i in tqdm(range(frame_count)):\n",
    "        ret, frame = cap.read()\n",
    "        if not ret:\n",
    "            break\n",
    "\n",
    "        if highlight_num == len(score_framestamps):\n",
    "            break\n",
    "\n",
    "        start_frame = score_framestamps[highlight_num] - highlight_frames\n",
    "        if i > start_frame:\n",
    "            # if reached end of highlight, move on to next highlight\n",
    "            if i > start_frame + highlight_frames + after_score_seconds*fps:\n",
    "                print(highlight_num)\n",
    "                highlight_num += 1\n",
    "                if split_segments:\n",
    "                    out.release()\n",
    "                    out = cv.VideoWriter(f\"{Path(input_video_path).stem}_highlight_{highlight_num}.mp4\", fourcc, fps, (original_width, original_height))\n",
    "            else:\n",
    "                out.write(frame)\n",
    "\n",
    "    # Release everything when job is finished\n",
    "    cap.release()\n",
    "    out.release()"
   ]
  },
  {
   "cell_type": "code",
   "execution_count": 108,
   "metadata": {},
   "outputs": [
    {
     "name": "stderr",
     "output_type": "stream",
     "text": [
      " 18%|█▊        | 5999/32688 [01:31<10:17, 43.24it/s]"
     ]
    },
    {
     "name": "stdout",
     "output_type": "stream",
     "text": [
      "0\n"
     ]
    },
    {
     "name": "stderr",
     "output_type": "stream",
     "text": [
      " 31%|███       | 10135/32688 [02:43<10:26, 36.00it/s]"
     ]
    },
    {
     "name": "stdout",
     "output_type": "stream",
     "text": [
      "1\n"
     ]
    },
    {
     "name": "stderr",
     "output_type": "stream",
     "text": [
      " 38%|███▊      | 12324/32688 [11:33<12:19, 27.56it/s]    "
     ]
    },
    {
     "name": "stdout",
     "output_type": "stream",
     "text": [
      "2\n"
     ]
    },
    {
     "name": "stderr",
     "output_type": "stream",
     "text": [
      " 45%|████▌     | 14729/32688 [12:19<07:08, 41.87it/s]"
     ]
    },
    {
     "name": "stdout",
     "output_type": "stream",
     "text": [
      "3\n"
     ]
    },
    {
     "name": "stderr",
     "output_type": "stream",
     "text": [
      " 50%|████▉     | 16192/32688 [12:51<07:13, 38.02it/s]"
     ]
    },
    {
     "name": "stdout",
     "output_type": "stream",
     "text": [
      "4\n"
     ]
    },
    {
     "name": "stderr",
     "output_type": "stream",
     "text": [
      " 53%|█████▎    | 17399/32688 [13:18<06:15, 40.66it/s]"
     ]
    },
    {
     "name": "stdout",
     "output_type": "stream",
     "text": [
      "5\n"
     ]
    },
    {
     "name": "stderr",
     "output_type": "stream",
     "text": [
      " 59%|█████▉    | 19350/32688 [13:57<06:42, 33.11it/s]"
     ]
    },
    {
     "name": "stdout",
     "output_type": "stream",
     "text": [
      "6\n"
     ]
    },
    {
     "name": "stderr",
     "output_type": "stream",
     "text": [
      " 61%|██████    | 19998/32688 [14:17<06:40, 31.71it/s]"
     ]
    },
    {
     "name": "stdout",
     "output_type": "stream",
     "text": [
      "7\n"
     ]
    },
    {
     "name": "stderr",
     "output_type": "stream",
     "text": [
      " 66%|██████▌   | 21484/32688 [14:41<04:07, 45.28it/s] "
     ]
    },
    {
     "name": "stdout",
     "output_type": "stream",
     "text": [
      "8\n"
     ]
    },
    {
     "name": "stderr",
     "output_type": "stream",
     "text": [
      " 70%|██████▉   | 22804/32688 [15:06<02:42, 60.87it/s]"
     ]
    },
    {
     "name": "stdout",
     "output_type": "stream",
     "text": [
      "9\n"
     ]
    },
    {
     "name": "stderr",
     "output_type": "stream",
     "text": [
      " 73%|███████▎  | 23973/32688 [15:29<03:54, 37.24it/s]"
     ]
    },
    {
     "name": "stdout",
     "output_type": "stream",
     "text": [
      "10\n"
     ]
    },
    {
     "name": "stderr",
     "output_type": "stream",
     "text": [
      " 78%|███████▊  | 25418/32688 [15:55<02:50, 42.63it/s] "
     ]
    },
    {
     "name": "stdout",
     "output_type": "stream",
     "text": [
      "11\n"
     ]
    },
    {
     "name": "stderr",
     "output_type": "stream",
     "text": [
      " 80%|███████▉  | 26038/32688 [16:11<02:09, 51.27it/s] "
     ]
    },
    {
     "name": "stdout",
     "output_type": "stream",
     "text": [
      "12\n"
     ]
    },
    {
     "name": "stderr",
     "output_type": "stream",
     "text": [
      " 89%|████████▊ | 28990/32688 [16:53<01:13, 50.11it/s] "
     ]
    },
    {
     "name": "stdout",
     "output_type": "stream",
     "text": [
      "13\n"
     ]
    },
    {
     "name": "stderr",
     "output_type": "stream",
     "text": [
      " 90%|████████▉ | 29369/32688 [17:06<01:04, 51.73it/s]"
     ]
    },
    {
     "name": "stdout",
     "output_type": "stream",
     "text": [
      "14\n"
     ]
    },
    {
     "name": "stderr",
     "output_type": "stream",
     "text": [
      " 92%|█████████▏| 30076/32688 [17:22<01:26, 30.27it/s] "
     ]
    },
    {
     "name": "stdout",
     "output_type": "stream",
     "text": [
      "15\n"
     ]
    },
    {
     "name": "stderr",
     "output_type": "stream",
     "text": [
      " 92%|█████████▏| 30204/32688 [17:27<00:52, 47.40it/s]"
     ]
    },
    {
     "name": "stdout",
     "output_type": "stream",
     "text": [
      "16\n"
     ]
    },
    {
     "name": "stderr",
     "output_type": "stream",
     "text": [
      " 98%|█████████▊| 31934/32688 [17:55<00:26, 28.86it/s] "
     ]
    },
    {
     "name": "stdout",
     "output_type": "stream",
     "text": [
      "17\n"
     ]
    },
    {
     "name": "stderr",
     "output_type": "stream",
     "text": [
      " 98%|█████████▊| 32158/32688 [18:04<00:18, 28.14it/s]"
     ]
    },
    {
     "name": "stdout",
     "output_type": "stream",
     "text": [
      "18\n"
     ]
    },
    {
     "name": "stderr",
     "output_type": "stream",
     "text": [
      " 99%|█████████▉| 32391/32688 [18:13<00:10, 29.61it/s]"
     ]
    },
    {
     "name": "stdout",
     "output_type": "stream",
     "text": [
      "19\n"
     ]
    },
    {
     "name": "stderr",
     "output_type": "stream",
     "text": [
      "\n"
     ]
    }
   ],
   "source": [
    "segment_video(\"C0012.MP4\", score_framestamps, before_score_seconds=5, after_score_seconds=2)"
   ]
  },
  {
   "cell_type": "code",
   "execution_count": null,
   "metadata": {},
   "outputs": [],
   "source": []
  }
 ],
 "metadata": {
  "kernelspec": {
   "display_name": "Python 3.12.4 ('bbcv')",
   "language": "python",
   "name": "python3"
  },
  "language_info": {
   "codemirror_mode": {
    "name": "ipython",
    "version": 3
   },
   "file_extension": ".py",
   "mimetype": "text/x-python",
   "name": "python",
   "nbconvert_exporter": "python",
   "pygments_lexer": "ipython3",
   "version": "3.12.4"
  },
  "orig_nbformat": 4,
  "vscode": {
   "interpreter": {
    "hash": "f889007d3705597367425c39f2fb7b929db1347b0fc4222b94ca60041798982c"
   }
  }
 },
 "nbformat": 4,
 "nbformat_minor": 2
}
